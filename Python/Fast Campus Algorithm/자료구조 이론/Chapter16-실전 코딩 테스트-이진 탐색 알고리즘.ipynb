{
 "cells": [
  {
   "cell_type": "markdown",
   "metadata": {},
   "source": [
    "### 실전 코딩 테스트 - 탐색 알고리즘\n",
    "\n",
    "### 1. https://www.acmicpc.net/problem/1920\n",
    "\n",
    "### 왜 다음 코드가 좋지 않을까요?\n",
    "> 실제로 다음과 같이 작성하면, 시간 제한에 걸립니다."
   ]
  },
  {
   "cell_type": "code",
   "execution_count": 1,
   "metadata": {},
   "outputs": [],
   "source": [
    "N = 5\n",
    "N_list = [4, 1, 5, 2, 3]\n",
    "M = 5\n",
    "M_list = [1, 3, 7, 9, 5]"
   ]
  },
  {
   "cell_type": "code",
   "execution_count": 2,
   "metadata": {},
   "outputs": [
    {
     "name": "stdout",
     "output_type": "stream",
     "text": [
      "1\n",
      "1\n",
      "0\n",
      "0\n",
      "1\n"
     ]
    }
   ],
   "source": [
    "for item in M_list:\n",
    "    if item in N_list:\n",
    "        print(1)\n",
    "    else:\n",
    "        print(0)"
   ]
  },
  {
   "cell_type": "code",
   "execution_count": 5,
   "metadata": {},
   "outputs": [
    {
     "name": "stdout",
     "output_type": "stream",
     "text": [
      "1\n",
      "1\n",
      "0\n",
      "0\n",
      "1\n"
     ]
    }
   ],
   "source": [
    "N_list.sort()\n",
    "\n",
    "def binary_search(value, start, end):\n",
    "    if start > end: return False\n",
    "    \n",
    "    median = (start + end) // 2\n",
    "    if N_list[median] > value:\n",
    "        return binary_search(value, start, median - 1)\n",
    "    elif N_list[median] < value:\n",
    "        return binary_search(value, median + 1, end)\n",
    "    else: return True\n",
    "    \n",
    "for item in M_list:\n",
    "    if binary_search(item, 0, N-1):\n",
    "        print(1)\n",
    "    else:\n",
    "        print(0)"
   ]
  },
  {
   "cell_type": "markdown",
   "metadata": {},
   "source": [
    "### 전체 코드"
   ]
  },
  {
   "cell_type": "code",
   "execution_count": 7,
   "metadata": {},
   "outputs": [
    {
     "name": "stdout",
     "output_type": "stream",
     "text": [
      "5\n",
      "4 1 5 2 3\n",
      "5\n",
      "1 3 7 9 5\n",
      "1\n",
      "1\n",
      "0\n",
      "0\n",
      "1\n"
     ]
    }
   ],
   "source": [
    "N = int(input())\n",
    "N_list = list(map(int, input().split()))\n",
    "N_list.sort()\n",
    "M = int(input())\n",
    "M_list = list(map(int, input().split()))\n",
    "\n",
    "N_list.sort()\n",
    "\n",
    "def binary_search(value, start, end):\n",
    "    if start > end: return False\n",
    "    \n",
    "    median = (start + end) // 2\n",
    "    if N_list[median] > value:\n",
    "        return binary_search(value, start, median - 1)\n",
    "    elif N_list[median] < value:\n",
    "        return binary_search(value, median + 1, end)\n",
    "    else: return True\n",
    "    \n",
    "for item in M_list:\n",
    "    if binary_search(item, 0, N-1):\n",
    "        print(1)\n",
    "    else:\n",
    "        print(0)"
   ]
  }
 ],
 "metadata": {
  "kernelspec": {
   "display_name": "Python 3",
   "language": "python",
   "name": "python3"
  },
  "language_info": {
   "codemirror_mode": {
    "name": "ipython",
    "version": 3
   },
   "file_extension": ".py",
   "mimetype": "text/x-python",
   "name": "python",
   "nbconvert_exporter": "python",
   "pygments_lexer": "ipython3",
   "version": "3.8.5"
  }
 },
 "nbformat": 4,
 "nbformat_minor": 4
}
