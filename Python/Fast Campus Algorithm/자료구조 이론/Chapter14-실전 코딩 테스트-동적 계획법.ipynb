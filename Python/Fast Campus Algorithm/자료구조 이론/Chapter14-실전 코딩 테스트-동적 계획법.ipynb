{
 "cells": [
  {
   "cell_type": "markdown",
   "metadata": {},
   "source": [
    "### 실전 코딩 테스트 - 동적 계획법\n",
    "\n",
    "### 1. 연습 문제: https://www.acmicpc.net/problem/11726"
   ]
  },
  {
   "cell_type": "markdown",
   "metadata": {},
   "source": [
    "### 풀이전략\n",
    "- 점화식을 찾아보자\n",
    "    - 점화식이란, 이웃하는 두개의 항 사이에 성립하는 관계를 나타낸 관계식을 의미함\n",
    "    - 예:dp[n] = dp[n-1] + dp[n-2]"
   ]
  },
  {
   "cell_type": "markdown",
   "metadata": {},
   "source": [
    "### 코드 작성 패턴\n",
    "1. 빈리스트 만들기 (입력값에 따른)\n",
    "2. 초기값을 설정\n",
    "3. 점화식 기반으로 계산값 적용하기\n",
    "4. 특정 입력값에 따른 계산값을 리스트에서 추출하기"
   ]
  },
  {
   "cell_type": "markdown",
   "metadata": {},
   "source": [
    "#### 1.빈리스트 만들기"
   ]
  },
  {
   "cell_type": "code",
   "execution_count": 1,
   "metadata": {},
   "outputs": [],
   "source": [
    "dp = [0] * 1001"
   ]
  },
  {
   "cell_type": "markdown",
   "metadata": {},
   "source": [
    "#### 2.초기값을 설정"
   ]
  },
  {
   "cell_type": "code",
   "execution_count": 2,
   "metadata": {},
   "outputs": [],
   "source": [
    "dp[1] = 1\n",
    "dp[2] = 2"
   ]
  },
  {
   "cell_type": "markdown",
   "metadata": {},
   "source": [
    "#### 3.점화식 기반으로 계산값 적용하기"
   ]
  },
  {
   "cell_type": "code",
   "execution_count": 3,
   "metadata": {},
   "outputs": [],
   "source": [
    "for index in range(3, 1001):\n",
    "    dp[index] = dp[index - 1] + dp[index - 2]"
   ]
  },
  {
   "cell_type": "markdown",
   "metadata": {},
   "source": [
    "#### 4.특정 입력값에 따른 계산값을 리스트에서 추출하기"
   ]
  },
  {
   "cell_type": "code",
   "execution_count": 4,
   "metadata": {},
   "outputs": [
    {
     "data": {
      "text/plain": [
       "55"
      ]
     },
     "execution_count": 4,
     "metadata": {},
     "output_type": "execute_result"
    }
   ],
   "source": [
    "dp[9]"
   ]
  },
  {
   "cell_type": "markdown",
   "metadata": {},
   "source": [
    "#### 전체 코드"
   ]
  },
  {
   "cell_type": "code",
   "execution_count": 7,
   "metadata": {},
   "outputs": [
    {
     "name": "stdout",
     "output_type": "stream",
     "text": [
      "6\n",
      "13\n"
     ]
    }
   ],
   "source": [
    "n = int(input())\n",
    "\n",
    "dp = [0] * 1001\n",
    "dp[1] = 1\n",
    "dp[2] = 2\n",
    "for index in range(3, 1001):\n",
    "    dp[index] = dp[index - 1] + dp[index - 2]\n",
    "print(dp[n] % 10007)"
   ]
  },
  {
   "cell_type": "markdown",
   "metadata": {},
   "source": [
    "#### 내가 푼것"
   ]
  },
  {
   "cell_type": "code",
   "execution_count": 8,
   "metadata": {},
   "outputs": [
    {
     "name": "stdout",
     "output_type": "stream",
     "text": [
      "5\n",
      "8\n"
     ]
    }
   ],
   "source": [
    "def solution(n):\n",
    "    dp = [0, 1, 2]\n",
    "    for num in range(3, n+1):\n",
    "        dp.append(dp[num-1] + dp[num-2])\n",
    "    return dp[n] % 10007\n",
    "\n",
    "print(solution(int(input())))"
   ]
  },
  {
   "cell_type": "markdown",
   "metadata": {},
   "source": [
    "> 일반적인 동적 계획법 문제는<br>\n",
    "> 통상 코드 자체는 간결하므로,\n",
    "> **가장 적은 경우의 수부터 계산을 해본 후, 패턴을 찾아,** 식(점화식)을 세우는 것이 핵심!"
   ]
  },
  {
   "cell_type": "markdown",
   "metadata": {},
   "source": [
    "### 2. 연습문제: https://www.acmicpc.net/problem/9461"
   ]
  },
  {
   "cell_type": "markdown",
   "metadata": {},
   "source": [
    "||0|1|2|3|4|5|6|7|8|9|10|\n",
    "|N|0|1|"
   ]
  },
  {
   "cell_type": "markdown",
   "metadata": {},
   "source": [
    "### 코드 작성 패턴\n",
    "1. 빈리스트 만들기 (입력값에 따른)\n",
    "2. 초기값을 설정\n",
    "3. 점화식 기반으로 계산값 적용하기\n",
    "4. 특정 입력값에 따른 계산값을 리스트에서 추출하기"
   ]
  },
  {
   "cell_type": "code",
   "execution_count": 6,
   "metadata": {},
   "outputs": [
    {
     "name": "stdout",
     "output_type": "stream",
     "text": [
      "1\n",
      "3\n",
      "16\n"
     ]
    }
   ],
   "source": [
    "dp = [0] * 101\n",
    "dp[1], dp[2], dp[3] = 1, 1, 1\n",
    "\n",
    "for index in range(1, 98):\n",
    "    dp[index + 3] = dp[index] + dp[index + 1]\n",
    "    \n",
    "print(dp[2])\n",
    "print(dp[6])\n",
    "print(dp[12])"
   ]
  }
 ],
 "metadata": {
  "kernelspec": {
   "display_name": "Python 3",
   "language": "python",
   "name": "python3"
  },
  "language_info": {
   "codemirror_mode": {
    "name": "ipython",
    "version": 3
   },
   "file_extension": ".py",
   "mimetype": "text/x-python",
   "name": "python",
   "nbconvert_exporter": "python",
   "pygments_lexer": "ipython3",
   "version": "3.8.5"
  }
 },
 "nbformat": 4,
 "nbformat_minor": 4
}
