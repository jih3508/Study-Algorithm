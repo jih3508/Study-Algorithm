{
 "cells": [
  {
   "cell_type": "markdown",
   "metadata": {},
   "source": [
    "# 대표적인 데이터 구조8: 힙\n",
    "\n",
    "## 1. 힙 (Heap) 이란?\n",
    "- 힙: 데이터에서 최대값과 최소값을 빠르게 찾기 위해 고안된 완전 이진 트리(Complete Binary Tree)\n",
    "  - 완전 이진 트리: 노드를 삽입할 때 최하단 왼쪽 노드부터 차례대로 삽입하는 트리\n",
    "\n",
    "<img src=\"https://www.fun-coding.org/00_Images/completebinarytree.png\" width=300>\n",
    "\n",
    "- 힙을 사용하는 이유\n",
    "  - 배열에 데이터를 넣고, 최대값과 최소값을 찾으려면 O(n) 이 걸림\n",
    "  - 이에 반해, 힙에 데이터를 넣고, 최대값과 최소값을 찾으면, $ O(log n) $ 이 걸림\n",
    "  - 우선순위 큐와 같이 최대값 또는 최소값을 빠르게 찾아야 하는 자료구조 및 알고리즘 구현 등에 활용됨\n",
    "\n",
    "## 2. 힙 (Heap) 구조\n",
    "- 힙은 최대값을 구하기 위한 구조 (최대 힙, Max Heap) 와, 최소값을 구하기 위한 구조 (최소 힙, Min Heap) 로 분류할 수 있음\n",
    "- 힙은 다음과 같이 두 가지 조건을 가지고 있는 자료구조임\n",
    "  1. 각 노드의 값은 해당 노드의 자식 노드가 가진 값보다 크거나 같다. (최대 힙의 경우)\n",
    "     - 최소 힙의 경우는 각 노드의 값은 해당 노드의 자식 노드가 가진 값보다 크거나 작음\n",
    "  2. 완전 이진 트리 형태를 가짐\n",
    "\n",
    "## 힙과 이진 탐색 트리의 공통점과 차이점\n",
    "- 공통점: 힙과 이진 탐색 트리는 모두 이진 트리임\n",
    "- 차이점: \n",
    "  - 힙은 각 노드의 값이 자식 노드보다 크거나 같음(Max Heap의 경우)\n",
    "  - 이진 탐색 트리는 왼쪽 자식 노드의 값이 가장 작고, 그 다음 부모 노드, 그 다음 오른쪽 자식 노드 값이 가장 큼\n",
    "  - 힙은 이진 탐색 트리의 조건인 자식 노드에서 작은 값은 왼쪽, 큰 값은 오른쪽이라는 조건은 없음\n",
    "    - 힙의 왼쪽 및 오른쪽 자식 노드의 값은 오른쪽이 클 수도 있고, 왼쪽이 클 수도 있음\n",
    "- 이진 탐색 트리는 탐색을 위한 구조, 힙은 최대/최소값 검색을 위한 구조 중 하나로 이해하면 됨  \n",
    "<img src=\"https://www.fun-coding.org/00_Images/completebinarytree_bst.png\" width=\"800\" />\n",
    "\n",
    "## 3. 힙 (Heap) 동작\n",
    "- 데이터를 힙 구조에 삽입, 삭제하는 과정을 그림을 통해 선명하게 이해하기\n",
    "\n",
    "## 힙에 데이터 삽입하기 - 기본 동작 \n",
    "- 힙은 완전 이진 트리이므로, 삽입할 노드는 기본적으로 왼쪽 최하단부 노드부터 채워지는 형태로 삽입\n",
    "<img src=\"https://www.fun-coding.org/00_Images/heap_ordinary.png\">\n",
    "\n",
    "## 힙에 데이터 삽입하기 - 삽입할 데이터가 힙의 데이터보다 클 경우 (Max Heap 의 예)\n",
    "- 먼저 삽입된 데이터는 완전 이진 트리 구조에 맞추어, 최하단부 왼쪽 노드부터 채워짐\n",
    "- 채워진 노드 위치에서, 부모 노드보다 값이 클 경우, 부모 노드와 위치를 바꿔주는 작업을 반복함 (swap)\n",
    "<img src=\"https://www.fun-coding.org/00_Images/heap_insert.png\">\n",
    "\n",
    "## 힙의 데이터 삭제하기 (Max Heap 의 예)\n",
    "- 보통 삭제는 최상단 노드 (root 노드)를 삭제하는 것이 일반적임\n",
    "  - 힙의 용도는 최대값 또는 최소값을 root 노드에 놓아서, 최대값과 최소값을 바로 꺼내 쓸 수 있도록 하는 것임\n",
    "- 상단의 데이터 삭제시, 가장 최하단부 왼쪽에 위치한 노드 (일반적으로 가장 마지막에 추가한 노드) 를 root 노드로 이동\n",
    "- root 노드의 값이 child node 보다 작을 경우, root 노드의 child node 중 가장 큰 값을 가진 노드와 root 노드 위치를 바꿔주는 작업을 반복함 (swap)\n",
    "\n",
    "<img src=\"https://www.fun-coding.org/00_Images/heap_remove.png\">\n",
    "\n",
    "## 4. 힙 구현\n",
    "## 힙과 배열\n",
    "- 일반적으로 힙 구현시 배열 자료구조를 활용함\n",
    "- 배열은 인덱스가 0번부터 시작하지만, 힙 구현의 편의를 위해, root 노드 인덱스 번호를 1로 지정하면, 구현이 좀더 수월함\n",
    "  - 부모 노드 인덱스 번호 (parent node's index) = 자식 노드 인덱스 번호 (child node's index) // 2\n",
    "  - 왼쪽 자식 노드 인덱스 번호 (left child node's index) = 부모 노드 인덱스 번호 (parent node's index) * 2\n",
    "  - 오른쪽 자식 노드 인덱스 번호 (right child node's index) = 부모 노드 인덱스 번호 (parent node's index) * 2 + 1\n",
    "<img src=\"https://www.fun-coding.org/00_Images/heap_array.png\" width=400>"
   ]
  },
  {
   "cell_type": "code",
   "execution_count": null,
   "metadata": {},
   "outputs": [],
   "source": []
  }
 ],
 "metadata": {
  "kernelspec": {
   "display_name": "Python 3",
   "language": "python",
   "name": "python3"
  },
  "language_info": {
   "codemirror_mode": {
    "name": "ipython",
    "version": 3
   },
   "file_extension": ".py",
   "mimetype": "text/x-python",
   "name": "python",
   "nbconvert_exporter": "python",
   "pygments_lexer": "ipython3",
   "version": "3.8.5"
  }
 },
 "nbformat": 4,
 "nbformat_minor": 4
}
