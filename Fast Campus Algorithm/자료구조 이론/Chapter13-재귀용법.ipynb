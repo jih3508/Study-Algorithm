{
 "cells": [
  {
   "cell_type": "markdown",
   "metadata": {},
   "source": [
    "# 재귀 용법 (recursive call, 재귀 호출)\n",
    "\n",
    "> 고급 정렬 알고리즘엥서 재귀 용법을 사용하므로, 고급 정렬 알고리즘을 익히기 전에 재귀 용법을 먼저 익히기로 합니다.\n",
    "\n",
    "## 1. 재귀 용법 (recursive call, 재귀 호출)\n",
    "* 함수 안에서 동일한 함수를 호출하는 형태\n",
    "* 여러 알고리즘 작성시 사용되므로, 익숙해져야 함\n",
    "\n",
    "## 2. 재귀 용법 이해\n",
    "- 예제를 풀어보며, 재귀 용법을 이해해보기\n",
    "\n",
    "## 예제\n",
    "- 팩토리얼을 구하는 알고리즘을 Recursive Call 을 활용해서 알고리즘 작성하기\n",
    "\n",
    "## 예제 - 분석하기\n",
    "- 간단한 경우부터 생각해보기\n",
    "  * 2! = 1 X 2\n",
    "  * 3! = 1 X 2 X 3\n",
    "  * 4! = 1 X 2 X 3 X 4 = 4 X 3!\n",
    "- 규칙이 보임: n! = n X (n - 1)!\n",
    "  1. 함수를 하나 만든다.\n",
    "  2. 함수(n) 은 n > 1 이면 return n X 함수(n - 1)\n",
    "  3. 함수(n) 은 n = 1 이면 return n\n",
    "- 검증 (코드로 검증하지 않고, 직접 간단한 경우부터 대입해서 검증해야 함)\n",
    "    1. 먼저 2! 부터 \n",
    "     - 함수(2) 이면, 2 > 1 이므로 2 X 함수(1)\n",
    "       - 함수(1) 은 1 이므로, return 2 X 1 = 2 맞다!\n",
    "    2. 먼저 3! 부터 \n",
    "     - 함수(3) 이면, 3 > 1 이므로 3 X 함수(2)\n",
    "       - 함수(2) 는 결국 1번에 의해 2! 이므로, return 2 X 1 = 2 \n",
    "       - 3 X 함수(2) = 3 X 2 = 3 X 2 X 1 = 6 맞다!\n",
    "    3. 먼저 4! 부터 \n",
    "     - 함수(4) 이면, 4 > 1 이므로 4 X 함수(3)\n",
    "       - 함수(3) 은 결국 2번에 의해 3 X 2 X 1 = 6 \n",
    "       - 4 X 함수(3) = 4 X 6 = 24 맞다!\n",
    "       \n",
    "## 예제 - 코드 레벨로 적어보기"
   ]
  },
  {
   "cell_type": "code",
   "execution_count": null,
   "metadata": {},
   "outputs": [],
   "source": []
  }
 ],
 "metadata": {
  "kernelspec": {
   "display_name": "Python 3",
   "language": "python",
   "name": "python3"
  },
  "language_info": {
   "codemirror_mode": {
    "name": "ipython",
    "version": 3
   },
   "file_extension": ".py",
   "mimetype": "text/x-python",
   "name": "python",
   "nbconvert_exporter": "python",
   "pygments_lexer": "ipython3",
   "version": "3.8.5"
  }
 },
 "nbformat": 4,
 "nbformat_minor": 4
}
